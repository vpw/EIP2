{
  "nbformat": 4,
  "nbformat_minor": 0,
  "metadata": {
    "colab": {
      "name": "1st DNN.ipynb",
      "version": "0.3.2",
      "provenance": [],
      "collapsed_sections": [],
      "include_colab_link": true
    },
    "kernelspec": {
      "name": "python2",
      "display_name": "Python 2"
    },
    "accelerator": "GPU"
  },
  "cells": [
    {
      "cell_type": "markdown",
      "metadata": {
        "id": "view-in-github",
        "colab_type": "text"
      },
      "source": [
        "[View in Colaboratory](https://colab.research.google.com/github/vpw/EIP2/blob/master/DNN.ipynb)"
      ]
    },
    {
      "metadata": {
        "id": "aNyZv-Ec52ot",
        "colab_type": "text"
      },
      "cell_type": "markdown",
      "source": [
        "# **Import Libraries and modules**"
      ]
    },
    {
      "metadata": {
        "id": "3m3w1Cw49Zkt",
        "colab_type": "code",
        "colab": {}
      },
      "cell_type": "code",
      "source": [
        "# https://keras.io/\n",
        "!pip install -q keras\n",
        "import keras\n",
        "import skimage"
      ],
      "execution_count": 0,
      "outputs": []
    },
    {
      "metadata": {
        "id": "Eso6UHE080D4",
        "colab_type": "code",
        "colab": {}
      },
      "cell_type": "code",
      "source": [
        "import numpy as np\n",
        "\n",
        "from keras.models import Sequential\n",
        "from keras.layers import Dense, Dropout, Activation, Flatten, Add\n",
        "from keras.layers import Convolution2D, MaxPooling2D, Conv2D, SeparableConv2D\n",
        "from keras.layers import Conv2DTranspose, AveragePooling2D, BatchNormalization\n",
        "from keras.utils import np_utils\n",
        "from keras.preprocessing.image import ImageDataGenerator\n",
        "from skimage import color, exposure\n",
        "\n",
        "from keras.datasets import mnist"
      ],
      "execution_count": 0,
      "outputs": []
    },
    {
      "metadata": {
        "id": "zByEi95J86RD",
        "colab_type": "text"
      },
      "cell_type": "markdown",
      "source": [
        "### Load pre-shuffled MNIST data into train and test sets"
      ]
    },
    {
      "metadata": {
        "id": "7eRM0QWN83PV",
        "colab_type": "code",
        "colab": {}
      },
      "cell_type": "code",
      "source": [
        "(X_train, y_train), (X_test, y_test) = mnist.load_data()"
      ],
      "execution_count": 0,
      "outputs": []
    },
    {
      "metadata": {
        "id": "4a4Be72j8-ZC",
        "colab_type": "code",
        "colab": {
          "base_uri": "https://localhost:8080/",
          "height": 317
        },
        "outputId": "85ec1309-8616-4e43-d593-17637b98bfa0"
      },
      "cell_type": "code",
      "source": [
        "print (X_train.shape)\n",
        "print (X_test.shape)\n",
        "from matplotlib import pyplot as plt\n",
        "%matplotlib inline\n",
        "plt.imshow(X_train[0])"
      ],
      "execution_count": 4,
      "outputs": [
        {
          "output_type": "stream",
          "text": [
            "(60000, 28, 28)\n",
            "(10000, 28, 28)\n"
          ],
          "name": "stdout"
        },
        {
          "output_type": "execute_result",
          "data": {
            "text/plain": [
              "<matplotlib.image.AxesImage at 0x7f2437614390>"
            ]
          },
          "metadata": {
            "tags": []
          },
          "execution_count": 4
        },
        {
          "output_type": "display_data",
          "data": {
            "image/png": "[encoded data removed]",
            "text/plain": [
              "<matplotlib.figure.Figure at 0x7f243768b250>"
            ]
          },
          "metadata": {
            "tags": []
          }
        }
      ]
    },
    {
      "metadata": {
        "id": "dkmprriw9AnZ",
        "colab_type": "code",
        "colab": {}
      },
      "cell_type": "code",
      "source": [
        "X_train = X_train.reshape(X_train.shape[0], 28, 28,1)\n",
        "X_test = X_test.reshape(X_test.shape[0], 28, 28,1)"
      ],
      "execution_count": 0,
      "outputs": []
    },
    {
      "metadata": {
        "id": "X2m4YS4E9CRh",
        "colab_type": "code",
        "colab": {}
      },
      "cell_type": "code",
      "source": [
        "X_train = X_train.astype('float32')\n",
        "X_test = X_test.astype('float32')\n",
        "X_train /= 255\n",
        "X_test /= 255"
      ],
      "execution_count": 0,
      "outputs": []
    },
    {
      "metadata": {
        "id": "0Mn0vAYD9DvB",
        "colab_type": "code",
        "colab": {
          "base_uri": "https://localhost:8080/",
          "height": 34
        },
        "outputId": "d2837ba0-9699-4874-eccc-99a5073791cb"
      },
      "cell_type": "code",
      "source": [
        "y_train[:10]"
      ],
      "execution_count": 7,
      "outputs": [
        {
          "output_type": "execute_result",
          "data": {
            "text/plain": [
              "array([5, 0, 4, 1, 9, 2, 1, 3, 1, 4], dtype=uint8)"
            ]
          },
          "metadata": {
            "tags": []
          },
          "execution_count": 7
        }
      ]
    },
    {
      "metadata": {
        "id": "ZG8JiXR39FHC",
        "colab_type": "code",
        "colab": {}
      },
      "cell_type": "code",
      "source": [
        "# Convert 1-dimensional class arrays to 10-dimensional class matrices\n",
        "Y_train = np_utils.to_categorical(y_train, 10)\n",
        "Y_test = np_utils.to_categorical(y_test, 10)"
      ],
      "execution_count": 0,
      "outputs": []
    },
    {
      "metadata": {
        "id": "fYlFRvKS9HMB",
        "colab_type": "code",
        "colab": {
          "base_uri": "https://localhost:8080/",
          "height": 191
        },
        "outputId": "2f1f9eac-4615-44d2-e4b3-9b29ee213f0d"
      },
      "cell_type": "code",
      "source": [
        "Y_train[:10]\n"
      ],
      "execution_count": 9,
      "outputs": [
        {
          "output_type": "execute_result",
          "data": {
            "text/plain": [
              "array([[0., 0., 0., 0., 0., 1., 0., 0., 0., 0.],\n",
              "       [1., 0., 0., 0., 0., 0., 0., 0., 0., 0.],\n",
              "       [0., 0., 0., 0., 1., 0., 0., 0., 0., 0.],\n",
              "       [0., 1., 0., 0., 0., 0., 0., 0., 0., 0.],\n",
              "       [0., 0., 0., 0., 0., 0., 0., 0., 0., 1.],\n",
              "       [0., 0., 1., 0., 0., 0., 0., 0., 0., 0.],\n",
              "       [0., 1., 0., 0., 0., 0., 0., 0., 0., 0.],\n",
              "       [0., 0., 0., 1., 0., 0., 0., 0., 0., 0.],\n",
              "       [0., 1., 0., 0., 0., 0., 0., 0., 0., 0.],\n",
              "       [0., 0., 0., 0., 1., 0., 0., 0., 0., 0.]], dtype=float32)"
            ]
          },
          "metadata": {
            "tags": []
          },
          "execution_count": 9
        }
      ]
    },
    {
      "metadata": {
        "id": "osKqT73Q9JJB",
        "colab_type": "code",
        "colab": {}
      },
      "cell_type": "code",
      "source": [
        "from keras.layers import Activation\n",
        "model = Sequential()\n",
        "\n",
        " \n",
        "'''model.add(Conv2D(32, (3, 3), activation='relu', input_shape=(28,28,1)))\n",
        "model.add(SeparableConv2D(16, 3, activation='relu'))\n",
        "model.add(Conv2D(8, 3, activation='relu'))\n",
        "model.add(Conv2D(16,1, activation='relu'))\n",
        "model.add(SeparableConv2D(16, 3, activation='relu'))\n",
        "model.add(AveragePooling2D((2,2)))\n",
        "model.add(Conv2D(10,3, activation='relu'))\n",
        "model.add(Conv2D(10,3, activation='relu'))\n",
        "model.add(Conv2D(10,3, activation='relu'))\n",
        "model.add(Conv2D(10,4, activation='relu'))\n",
        "model.add(Flatten())\n",
        "model.add(Activation('softmax'))'''\n",
        "model.add(Conv2D(32, kernel_size=(11, 11), activation='relu', input_shape=(28,28,1)))\n",
        "model.add(BatchNormalization(axis=-1))\n",
        "#64, 18\n",
        "model.add(Conv2D(128, 1, activation='relu'))\n",
        "model.add(BatchNormalization(axis=-1))\n",
        "#128, 18\n",
        "model.add(SeparableConv2D(32, 3, activation='relu'))\n",
        "model.add(BatchNormalization(axis=-1))\n",
        "#32, 16\n",
        "model.add(MaxPooling2D(pool_size=(2, 2)))\n",
        "model.add(Dropout(0.25))\n",
        "#32, 8\n",
        "'''model.add(Conv2DTranspose(16, 3, activation='relu'))\n",
        "model.add(BatchNormalization(axis=-1))\n",
        "#16, 9\n",
        "model.add(Conv2DTranspose(16, 3, activation='relu'))\n",
        "model.add(BatchNormalization(axis=-1))'''\n",
        "#16, 11\n",
        "model.add(SeparableConv2D(32, 3, activation='relu'))\n",
        "model.add(BatchNormalization(axis=-1))\n",
        "#32, 6\n",
        "model.add(SeparableConv2D(16, 3, activation='relu'))\n",
        "model.add(BatchNormalization(axis=-1))\n",
        "#16, 4\n",
        "#model.add(Conv2D(16, 3, activation='relu'))\n",
        "#model.add(BatchNormalization(axis=-1))\n",
        "#16, 3\n",
        "model.add(Flatten())\n",
        "#1, 16*16\n",
        "model.add(Dense(10, activation='softmax'))\n",
        "#model.add(Activation('softmax'))"
      ],
      "execution_count": 0,
      "outputs": []
    },
    {
      "metadata": {
        "id": "TzdAYg1k9K7Z",
        "colab_type": "code",
        "colab": {
          "base_uri": "https://localhost:8080/",
          "height": 625
        },
        "outputId": "eba9a3b9-fef3-449a-be18-197f3fe7ac80"
      },
      "cell_type": "code",
      "source": [
        "model.summary()"
      ],
      "execution_count": 77,
      "outputs": [
        {
          "output_type": "stream",
          "text": [
            "_________________________________________________________________\n",
            "Layer (type)                 Output Shape              Param #   \n",
            "=================================================================\n",
            "conv2d_30 (Conv2D)           (None, 18, 18, 32)        3904      \n",
            "_________________________________________________________________\n",
            "batch_normalization_71 (Batc (None, 18, 18, 32)        128       \n",
            "_________________________________________________________________\n",
            "conv2d_31 (Conv2D)           (None, 18, 18, 128)       4224      \n",
            "_________________________________________________________________\n",
            "batch_normalization_72 (Batc (None, 18, 18, 128)       512       \n",
            "_________________________________________________________________\n",
            "separable_conv2d_42 (Separab (None, 16, 16, 32)        5280      \n",
            "_________________________________________________________________\n",
            "batch_normalization_73 (Batc (None, 16, 16, 32)        128       \n",
            "_________________________________________________________________\n",
            "max_pooling2d_14 (MaxPooling (None, 8, 8, 32)          0         \n",
            "_________________________________________________________________\n",
            "dropout_14 (Dropout)         (None, 8, 8, 32)          0         \n",
            "_________________________________________________________________\n",
            "separable_conv2d_43 (Separab (None, 6, 6, 32)          1344      \n",
            "_________________________________________________________________\n",
            "batch_normalization_74 (Batc (None, 6, 6, 32)          128       \n",
            "_________________________________________________________________\n",
            "separable_conv2d_44 (Separab (None, 4, 4, 16)          816       \n",
            "_________________________________________________________________\n",
            "batch_normalization_75 (Batc (None, 4, 4, 16)          64        \n",
            "_________________________________________________________________\n",
            "flatten_14 (Flatten)         (None, 256)               0         \n",
            "_________________________________________________________________\n",
            "dense_14 (Dense)             (None, 10)                2570      \n",
            "=================================================================\n",
            "Total params: 19,098\n",
            "Trainable params: 18,618\n",
            "Non-trainable params: 480\n",
            "_________________________________________________________________\n"
          ],
          "name": "stdout"
        }
      ]
    },
    {
      "metadata": {
        "id": "Zp6SuGrL9M3h",
        "colab_type": "code",
        "colab": {}
      },
      "cell_type": "code",
      "source": [
        "model.compile(loss='categorical_crossentropy',\n",
        "             optimizer='adam',\n",
        "             metrics=['accuracy'])"
      ],
      "execution_count": 0,
      "outputs": []
    },
    {
      "metadata": {
        "id": "wSscAgT-lMa6",
        "colab_type": "code",
        "colab": {}
      },
      "cell_type": "code",
      "source": [
        "##def AdaptiveHistEq(img):\n",
        "##    img_adapteq = exposure.equalize_adapthist(img, clip_limit=0.03)\n",
        "##    return img_adapteq\n",
        "\n",
        "\n",
        "#datagen = ImageDataGenerator(\n",
        " #featurewise_center=True,\n",
        "  #  featurewise_std_normalization=True,\n",
        "   # validation_split=0.2\n",
        " ##   preprocessing_function=AdaptiveHistEq\n",
        "    )\n",
        "##rotation_range=20\n",
        "    ##width_shift_range=0.2,\n",
        "    ##height_shift_range=0.2\n",
        "##featurewise_center=True,\n",
        "##    featurewise_std_normalization=True,\n",
        "    ##zca_whitening=True\n",
        "\n",
        "#datagen.fit(X_train)\n"
      ],
      "execution_count": 0,
      "outputs": []
    },
    {
      "metadata": {
        "id": "HAvGtcWRm61U",
        "colab_type": "code",
        "colab": {}
      },
      "cell_type": "code",
      "source": [
        "# visualize the fitted images\n",
        "\n",
        "for X_batch, Y_batch in datagen.flow(X_train, Y_train, batch_size=5):\n",
        "  for i in range(0,9):\n",
        "    plt.subplot(330 + 1 + i)\n",
        "    plt.imshow(X_batch[i].reshape(28,28), cmap= plt.get_cmap('gray'))\n",
        "    plt.show()\n",
        "    break"
      ],
      "execution_count": 0,
      "outputs": []
    },
    {
      "metadata": {
        "id": "4xWoKhPY9Of5",
        "colab_type": "code",
        "colab": {
          "base_uri": "https://localhost:8080/",
          "height": 729
        },
        "outputId": "c3bb837c-0324-4efe-cafe-36925f24e45c"
      },
      "cell_type": "code",
      "source": [
        "\n",
        "#model.fit_generator(datagen.flow(X_train, Y_train, batch_size=5),\n",
        "#                    steps_per_epoch=len(X_train) / 20, epochs=12)\n",
        "\n",
        "model.fit(X_train, Y_train, batch_size=32, nb_epoch=20, verbose=1)"
      ],
      "execution_count": 79,
      "outputs": [
        {
          "output_type": "stream",
          "text": [
            "Epoch 1/20\n",
            "60000/60000 [==============================] - 44s 741us/step - loss: 0.1919 - acc: 0.9404\n",
            "Epoch 2/20\n",
            "60000/60000 [==============================] - 42s 706us/step - loss: 0.0707 - acc: 0.9777\n",
            "Epoch 3/20\n",
            "60000/60000 [==============================] - 44s 729us/step - loss: 0.0558 - acc: 0.9829\n",
            "Epoch 4/20\n",
            "60000/60000 [==============================] - 44s 725us/step - loss: 0.0508 - acc: 0.9842\n",
            "Epoch 5/20\n",
            "60000/60000 [==============================] - 44s 727us/step - loss: 0.0420 - acc: 0.9866\n",
            "Epoch 6/20\n",
            "60000/60000 [==============================] - 44s 730us/step - loss: 0.0385 - acc: 0.9875\n",
            "Epoch 7/20\n",
            "60000/60000 [==============================] - 44s 729us/step - loss: 0.0353 - acc: 0.9888\n",
            "Epoch 8/20\n",
            "60000/60000 [==============================] - 44s 730us/step - loss: 0.0309 - acc: 0.9901\n",
            "Epoch 9/20\n",
            "60000/60000 [==============================] - 44s 725us/step - loss: 0.0296 - acc: 0.9908\n",
            "Epoch 10/20\n",
            "60000/60000 [==============================] - 43s 723us/step - loss: 0.0279 - acc: 0.9914\n",
            "Epoch 11/20\n",
            "60000/60000 [==============================] - 43s 718us/step - loss: 0.0258 - acc: 0.9919\n",
            "Epoch 12/20\n",
            "60000/60000 [==============================] - 42s 707us/step - loss: 0.0252 - acc: 0.9923\n",
            "Epoch 13/20\n",
            "60000/60000 [==============================] - 42s 707us/step - loss: 0.0218 - acc: 0.9928\n",
            "Epoch 14/20\n",
            "60000/60000 [==============================] - 42s 705us/step - loss: 0.0219 - acc: 0.9932\n",
            "Epoch 15/20\n",
            "60000/60000 [==============================] - 42s 707us/step - loss: 0.0210 - acc: 0.9931\n",
            "Epoch 16/20\n",
            "60000/60000 [==============================] - 42s 707us/step - loss: 0.0188 - acc: 0.9938\n",
            "Epoch 17/20\n",
            "60000/60000 [==============================] - 42s 707us/step - loss: 0.0180 - acc: 0.9939\n",
            "Epoch 18/20\n",
            "60000/60000 [==============================] - 42s 701us/step - loss: 0.0171 - acc: 0.9941\n",
            "Epoch 19/20\n",
            "60000/60000 [==============================] - 42s 706us/step - loss: 0.0182 - acc: 0.9939\n",
            "Epoch 20/20\n",
            "60000/60000 [==============================] - 42s 706us/step - loss: 0.0161 - acc: 0.9947\n"
          ],
          "name": "stdout"
        },
        {
          "output_type": "execute_result",
          "data": {
            "text/plain": [
              "<keras.callbacks.History at 0x7f2415d5a250>"
            ]
          },
          "metadata": {
            "tags": []
          },
          "execution_count": 79
        }
      ]
    },
    {
      "metadata": {
        "id": "AtsH-lLk-eLb",
        "colab_type": "code",
        "colab": {}
      },
      "cell_type": "code",
      "source": [
        "score = model.evaluate(X_test, Y_test, verbose=0)"
      ],
      "execution_count": 0,
      "outputs": []
    },
    {
      "metadata": {
        "id": "mkX8JMv79q9r",
        "colab_type": "code",
        "colab": {
          "base_uri": "https://localhost:8080/",
          "height": 34
        },
        "outputId": "f24cd5cf-5bd6-4b9b-d189-4c3e5fd6e36a"
      },
      "cell_type": "code",
      "source": [
        "print(score)"
      ],
      "execution_count": 81,
      "outputs": [
        {
          "output_type": "stream",
          "text": [
            "[0.03537192779433754, 0.9906]\n"
          ],
          "name": "stdout"
        }
      ]
    },
    {
      "metadata": {
        "id": "OCWoJkwE9suh",
        "colab_type": "code",
        "colab": {}
      },
      "cell_type": "code",
      "source": [
        "y_pred = model.predict(X_test)"
      ],
      "execution_count": 0,
      "outputs": []
    },
    {
      "metadata": {
        "id": "Ym7iCFBm9uBs",
        "colab_type": "code",
        "colab": {
          "base_uri": "https://localhost:8080/",
          "height": 347
        },
        "outputId": "be1fbd41-1f7d-40c9-f3d0-5ee6303a6c51"
      },
      "cell_type": "code",
      "source": [
        "print(y_pred[:9])\n",
        "print(y_test[:9])"
      ],
      "execution_count": 96,
      "outputs": [
        {
          "output_type": "stream",
          "text": [
            "[[2.2968583e-04 8.9119521e-06 4.6454199e-02 7.6202596e-08 3.6094109e-06\n",
            "  3.1804422e-05 2.6559009e-04 1.1354684e-05 9.5299470e-01 8.4761773e-08]\n",
            " [1.2301754e-03 5.1601764e-05 8.3863443e-01 1.2332234e-07 4.1556982e-06\n",
            "  1.7607757e-05 1.7765517e-03 1.2103624e-06 1.5828338e-01 7.9621253e-07]\n",
            " [1.9940786e-04 4.5936387e-05 7.2092652e-02 9.6050572e-09 2.1086951e-06\n",
            "  7.3239571e-05 1.2255270e-03 4.8203010e-06 9.2635614e-01 1.6045234e-07]\n",
            " [4.9569819e-02 4.3081509e-05 3.3645049e-01 9.7284728e-06 6.2930696e-03\n",
            "  8.3903148e-04 1.8130478e-02 6.9831891e-05 5.8855474e-01 3.9798619e-05]\n",
            " [7.6912096e-07 2.0712261e-07 5.7515860e-02 1.0032482e-08 2.6221949e-06\n",
            "  3.6172312e-06 2.9816189e-05 3.5229380e-07 9.4244671e-01 5.7691194e-09]\n",
            " [3.2850989e-04 6.9222995e-05 8.5270487e-02 2.5864781e-08 2.1458268e-06\n",
            "  5.6184061e-05 5.5856770e-04 1.1048883e-05 9.1370362e-01 1.8836502e-07]\n",
            " [2.4668475e-06 1.1089660e-06 4.3533109e-03 3.0714144e-08 2.2527735e-07\n",
            "  1.7191598e-05 5.0705225e-06 2.6942466e-08 9.9562031e-01 2.7191598e-07]\n",
            " [3.2150558e-06 2.0103039e-06 2.2884982e-02 1.3092638e-07 3.3554074e-06\n",
            "  9.5394105e-05 8.9570749e-06 1.5408158e-06 9.7700012e-01 3.2813747e-07]\n",
            " [1.4511971e-07 1.6078667e-08 3.2101696e-05 9.9004055e-11 1.9953971e-08\n",
            "  8.7503486e-06 2.6002544e-05 7.1350836e-09 9.9993300e-01 8.3604851e-10]]\n",
            "[7 2 1 0 4 1 4 9 5]\n"
          ],
          "name": "stdout"
        }
      ]
    },
    {
      "metadata": {
        "id": "CT--y98_dr2T",
        "colab_type": "code",
        "colab": {}
      },
      "cell_type": "code",
      "source": [
        "layer_dict = dict([(layer.name, layer) for layer in model.layers])"
      ],
      "execution_count": 0,
      "outputs": []
    },
    {
      "metadata": {
        "id": "2GY4Upv4dsUR",
        "colab_type": "code",
        "colab": {
          "base_uri": "https://localhost:8080/",
          "height": 839
        },
        "outputId": "b100f58b-eb74-4386-ca9b-725885a539af"
      },
      "cell_type": "code",
      "source": [
        "import numpy as np\n",
        "from matplotlib import pyplot as plt\n",
        "from keras import backend as K\n",
        "%matplotlib inline\n",
        "# util function to convert a tensor into a valid image\n",
        "def deprocess_image(x):\n",
        "    # normalize tensor: center on 0., ensure std is 0.1\n",
        "    x -= x.mean()\n",
        "    x /= (x.std() + 1e-5)\n",
        "    x *= 0.1\n",
        "\n",
        "    # clip to [0, 1]\n",
        "    x += 0.5\n",
        "    x = np.clip(x, 0, 1)\n",
        "\n",
        "    # convert to RGB array\n",
        "    x *= 255\n",
        "    #x = x.transpose((1, 2, 0))\n",
        "    x = np.clip(x, 0, 255).astype('uint8')\n",
        "    return x\n",
        "\n",
        "def vis_img_in_filter(img = np.array(X_train[2]).reshape((1, 28, 28, 1)).astype(np.float64), \n",
        "                      layer_name = 'conv2d_14'):\n",
        "    layer_output = layer_dict[layer_name].output\n",
        "    img_ascs = list()\n",
        "    for filter_index in range(layer_output.shape[3]):\n",
        "        # build a loss function that maximizes the activation\n",
        "        # of the nth filter of the layer considered\n",
        "        loss = K.mean(layer_output[:, :, :, filter_index])\n",
        "\n",
        "        # compute the gradient of the input picture wrt this loss\n",
        "        grads = K.gradients(loss, model.input)[0]\n",
        "\n",
        "        # normalization trick: we normalize the gradient\n",
        "        grads /= (K.sqrt(K.mean(K.square(grads))) + 1e-5)\n",
        "\n",
        "        # this function returns the loss and grads given the input picture\n",
        "        iterate = K.function([model.input], [loss, grads])\n",
        "\n",
        "        # step size for gradient ascent\n",
        "        step = 5.\n",
        "\n",
        "        img_asc = np.array(img)\n",
        "        # run gradient ascent for 20 steps\n",
        "        for i in range(20):\n",
        "            loss_value, grads_value = iterate([img_asc])\n",
        "            img_asc += grads_value * step\n",
        "\n",
        "        img_asc = img_asc[0]\n",
        "        img_ascs.append(deprocess_image(img_asc).reshape((28, 28)))\n",
        "        \n",
        "    if layer_output.shape[3] >= 35:\n",
        "        plot_x, plot_y = 6, 6\n",
        "    elif layer_output.shape[3] >= 23:\n",
        "        plot_x, plot_y = 4, 6\n",
        "    elif layer_output.shape[3] >= 11:\n",
        "        plot_x, plot_y = 2, 6\n",
        "    else:\n",
        "        plot_x, plot_y = 1, 2\n",
        "    fig, ax = plt.subplots(plot_x, plot_y, figsize = (12, 12))\n",
        "    ax[0, 0].imshow(img.reshape((28, 28)), cmap = 'gray')\n",
        "    ax[0, 0].set_title('Input image')\n",
        "    fig.suptitle('Input image and %s filters' % (layer_name,))\n",
        "    fig.tight_layout(pad = 0.3, rect = [0, 0, 0.9, 0.9])\n",
        "    for (x, y) in [(i, j) for i in range(plot_x) for j in range(plot_y)]:\n",
        "        if x == 0 and y == 0:\n",
        "            continue\n",
        "        ax[x, y].imshow(img_ascs[x * plot_y + y - 1], cmap = 'gray')\n",
        "        ax[x, y].set_title('filter %d' % (x * plot_y + y - 1))\n",
        "\n",
        "vis_img_in_filter(layer_name='conv2d_35')"
      ],
      "execution_count": 92,
      "outputs": [
        {
          "output_type": "display_data",
          "data": {
            "image/png": "[encoded data removed]",
            "text/plain": [
              "<matplotlib.figure.Figure at 0x7f3aec40fa10>"
            ]
          },
          "metadata": {
            "tags": []
          }
        }
      ]
    },
    {
      "metadata": {
        "id": "9tvptcn8dxvp",
        "colab_type": "code",
        "colab": {}
      },
      "cell_type": "code",
      "source": [
        ""
      ],
      "execution_count": 0,
      "outputs": []
    }
  ]
}